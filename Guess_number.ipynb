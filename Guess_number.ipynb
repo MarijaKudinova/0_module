{
 "cells": [
  {
   "cell_type": "code",
   "execution_count": null,
   "metadata": {},
   "outputs": [],
   "source": [
    "import numpy as np                                 \n",
    "number = np.random.randint(1,101)    # Загадали число \n",
    "max = 100                            # Верхняя граница числа\n",
    "min = 1                              # Нижняя граница числа\n",
    "tries = 0                            # Счетчик попыток\n",
    "guess = np.random.randint(1,101)     # Запускаем попытки (случайные числа)\n",
    "\n",
    "\n",
    "if number == guess:\n",
    "    tries += 1                       # Считаем попытки\n",
    "else:\n",
    "    while number != guess:           # Создаем вложенный цикл\n",
    "        current = (max+min)//2       # Ищем середину диапазона (чисел)\n",
    "        if number > guess:           # Создаем еще один вложеный цикл\n",
    "            min = current + 1        # Новое значение\n",
    "            tries += 1\n",
    "        else:                        \n",
    "            max = current - 1\n",
    "            tries += 1\n",
    "            \n",
    "print(f\"вы угадали число за {tries} попыток.\")  # выводим на экран результат"
   ]
  },
  {
   "cell_type": "code",
   "execution_count": null,
   "metadata": {},
   "outputs": [],
   "source": []
  }
 ],
 "metadata": {
  "kernelspec": {
   "display_name": "Python 3",
   "language": "python",
   "name": "python3"
  },
  "language_info": {
   "codemirror_mode": {
    "name": "ipython",
    "version": 3
   },
   "file_extension": ".py",
   "mimetype": "text/x-python",
   "name": "python",
   "nbconvert_exporter": "python",
   "pygments_lexer": "ipython3",
   "version": "3.8.5"
  }
 },
 "nbformat": 4,
 "nbformat_minor": 4
}
